{
 "cells": [
  {
   "cell_type": "markdown",
   "id": "8a77807f92f26ee",
   "metadata": {},
   "source": [
    "# Australian Energy Production Data Pipeline\n",
    "\n",
    "High-level Explanation of the Pipeline"
   ]
  },
  {
   "cell_type": "code",
   "execution_count": 1,
   "id": "fbc121e30a2defb3",
   "metadata": {
    "ExecuteTime": {
     "end_time": "2024-07-16T06:50:10.587560Z",
     "start_time": "2024-07-16T06:50:09.976501Z"
    }
   },
   "outputs": [],
   "source": [
    "import pandas as pd\n",
    "import requests\n",
    "import json\n",
    "import os\n",
    "from sqlalchemy import create_engine"
   ]
  },
  {
   "cell_type": "code",
   "execution_count": 2,
   "id": "6c914afa419436cc",
   "metadata": {
    "ExecuteTime": {
     "end_time": "2024-07-16T06:50:10.591154Z",
     "start_time": "2024-07-16T06:50:10.588773Z"
    }
   },
   "outputs": [],
   "source": [
    "api_url = \"https://visualisations.aemo.com.au/aemo/apps/api/report/5MIN\"\n",
    "payload = json.dumps({\"timeScale\":[\"5MIN\"]})\n",
    "headers = {'Content-Type':'application/json'}"
   ]
  },
  {
   "cell_type": "code",
   "execution_count": 3,
   "id": "458315d3e5cdab62",
   "metadata": {},
   "outputs": [],
   "source": [
    "db_url = os.getenv(\"DB_URL\")\n",
    "engine = create_engine(db_url)"
   ]
  },
  {
   "cell_type": "code",
   "execution_count": 4,
   "id": "f794dd63041bf939",
   "metadata": {
    "ExecuteTime": {
     "end_time": "2024-07-16T06:50:11.150863Z",
     "start_time": "2024-07-16T06:50:10.591848Z"
    }
   },
   "outputs": [],
   "source": [
    "response = requests.request(\"POST\",api_url,headers=headers,data=payload)\n",
    "data = response.json()"
   ]
  },
  {
   "cell_type": "code",
   "execution_count": 5,
   "id": "6065b4a5df9dda58",
   "metadata": {
    "ExecuteTime": {
     "end_time": "2024-07-16T06:50:11.159659Z",
     "start_time": "2024-07-16T06:50:11.152436Z"
    }
   },
   "outputs": [],
   "source": [
    "eGen = pd.DataFrame(data[\"5MIN\"])"
   ]
  },
  {
   "cell_type": "code",
   "execution_count": 7,
   "id": "f234b98d19c020c9",
   "metadata": {
    "ExecuteTime": {
     "end_time": "2024-07-16T06:50:11.169133Z",
     "start_time": "2024-07-16T06:50:11.160402Z"
    }
   },
   "outputs": [],
   "source": [
    "state_dfs = {state: pd.DataFrame(columns=eGen.columns) for state in eGen['REGION'].unique()}\n",
    "for state in state_dfs.keys():\n",
    "    state_dfs[state] = eGen[eGen['REGION'] == state]\n",
    "    state_dfs[state].to_sql(f'electricity_data_{state}', con=engine, if_exists='append', index=False)"
   ]
  },
  {
   "cell_type": "code",
   "execution_count": null,
   "id": "e17ddc87e07365a",
   "metadata": {
    "ExecuteTime": {
     "end_time": "2024-07-16T06:50:11.171685Z",
     "start_time": "2024-07-16T06:50:11.170005Z"
    }
   },
   "outputs": [],
   "source": []
  }
 ],
 "metadata": {
  "kernelspec": {
   "display_name": "Python 3",
   "language": "python",
   "name": "python3"
  },
  "language_info": {
   "codemirror_mode": {
    "name": "ipython",
    "version": 3
   },
   "file_extension": ".py",
   "mimetype": "text/x-python",
   "name": "python",
   "nbconvert_exporter": "python",
   "pygments_lexer": "ipython3",
   "version": "3.10.11"
  }
 },
 "nbformat": 4,
 "nbformat_minor": 5
}
