{
 "cells": [
  {
   "cell_type": "markdown",
   "id": "8a77807f92f26ee",
   "metadata": {},
   "source": [
    "# Australian Energy Production Data Pipeline"
   ]
  },
  {
   "cell_type": "code",
   "execution_count": 1,
   "id": "fbc121e30a2defb3",
   "metadata": {
    "ExecuteTime": {
     "end_time": "2024-07-16T06:50:10.587560Z",
     "start_time": "2024-07-16T06:50:09.976501Z"
    }
   },
   "outputs": [],
   "source": [
    "import pandas as pd\n",
    "import requests\n",
    "import json\n",
    "import os\n",
    "from sqlalchemy import create_engine"
   ]
  },
  {
   "cell_type": "code",
   "execution_count": 2,
   "id": "6c914afa419436cc",
   "metadata": {
    "ExecuteTime": {
     "end_time": "2024-07-16T06:50:10.591154Z",
     "start_time": "2024-07-16T06:50:10.588773Z"
    }
   },
   "outputs": [],
   "source": [
    "api_url = \"https://visualisations.aemo.com.au/aemo/apps/api/report/5MIN\"\n",
    "payload = json.dumps({\"timeScale\":[\"5MIN\"]})\n",
    "headers = {'Content-Type':'application/json'}"
   ]
  },
  {
   "cell_type": "code",
   "execution_count": 3,
   "id": "458315d3e5cdab62",
   "metadata": {},
   "outputs": [],
   "source": [
    "db_url = os.getenv(\"DB_URL\")\n",
    "engine = create_engine(db_url)"
   ]
  },
  {
   "cell_type": "code",
   "execution_count": 3,
   "id": "f794dd63041bf939",
   "metadata": {
    "ExecuteTime": {
     "end_time": "2024-07-16T06:50:11.150863Z",
     "start_time": "2024-07-16T06:50:10.591848Z"
    }
   },
   "outputs": [],
   "source": [
    "response = requests.request(\"POST\",api_url,headers=headers,data=payload)\n",
    "data = response.json()"
   ]
  },
  {
   "cell_type": "code",
   "execution_count": 4,
   "id": "6065b4a5df9dda58",
   "metadata": {
    "ExecuteTime": {
     "end_time": "2024-07-16T06:50:11.159659Z",
     "start_time": "2024-07-16T06:50:11.152436Z"
    }
   },
   "outputs": [],
   "source": [
    "eGen = pd.DataFrame(data[\"5MIN\"])"
   ]
  },
  {
   "cell_type": "code",
   "execution_count": 7,
   "id": "f234b98d19c020c9",
   "metadata": {
    "ExecuteTime": {
     "end_time": "2024-07-16T06:50:11.169133Z",
     "start_time": "2024-07-16T06:50:11.160402Z"
    }
   },
   "outputs": [],
   "source": [
    "state_dfs = {state: pd.DataFrame(columns=eGen.columns) for state in eGen['REGION'].unique()}\n",
    "for state in state_dfs.keys():\n",
    "    state_dfs[state] = eGen[eGen['REGION'] == state]\n",
    "    state_dfs[state].to_sql(f'electricity_data_{state}', con=engine, if_exists='append', index=False)"
   ]
  },
  {
   "cell_type": "code",
   "execution_count": 5,
   "id": "e17ddc87e07365a",
   "metadata": {
    "ExecuteTime": {
     "end_time": "2024-07-16T06:50:11.171685Z",
     "start_time": "2024-07-16T06:50:11.170005Z"
    }
   },
   "outputs": [
    {
     "data": {
      "text/html": [
       "<div>\n",
       "<style scoped>\n",
       "    .dataframe tbody tr th:only-of-type {\n",
       "        vertical-align: middle;\n",
       "    }\n",
       "\n",
       "    .dataframe tbody tr th {\n",
       "        vertical-align: top;\n",
       "    }\n",
       "\n",
       "    .dataframe thead th {\n",
       "        text-align: right;\n",
       "    }\n",
       "</style>\n",
       "<table border=\"1\" class=\"dataframe\">\n",
       "  <thead>\n",
       "    <tr style=\"text-align: right;\">\n",
       "      <th></th>\n",
       "      <th>SETTLEMENTDATE</th>\n",
       "      <th>REGIONID</th>\n",
       "      <th>REGION</th>\n",
       "      <th>RRP</th>\n",
       "      <th>TOTALDEMAND</th>\n",
       "      <th>PERIODTYPE</th>\n",
       "      <th>NETINTERCHANGE</th>\n",
       "      <th>SCHEDULEDGENERATION</th>\n",
       "      <th>SEMISCHEDULEDGENERATION</th>\n",
       "      <th>APCFLAG</th>\n",
       "    </tr>\n",
       "  </thead>\n",
       "  <tbody>\n",
       "    <tr>\n",
       "      <th>575</th>\n",
       "      <td>2024-07-17T17:25:00</td>\n",
       "      <td>NSW1</td>\n",
       "      <td>NSW1</td>\n",
       "      <td>288.55501</td>\n",
       "      <td>10749.29</td>\n",
       "      <td>ACTUAL</td>\n",
       "      <td>-901.28</td>\n",
       "      <td>9210.74240</td>\n",
       "      <td>620.52760</td>\n",
       "      <td>0.0</td>\n",
       "    </tr>\n",
       "    <tr>\n",
       "      <th>1151</th>\n",
       "      <td>2024-07-17T17:25:00</td>\n",
       "      <td>QLD1</td>\n",
       "      <td>QLD1</td>\n",
       "      <td>302.26313</td>\n",
       "      <td>8400.93</td>\n",
       "      <td>ACTUAL</td>\n",
       "      <td>198.84</td>\n",
       "      <td>8282.71913</td>\n",
       "      <td>321.95087</td>\n",
       "      <td>0.0</td>\n",
       "    </tr>\n",
       "    <tr>\n",
       "      <th>1727</th>\n",
       "      <td>2024-07-17T17:25:00</td>\n",
       "      <td>SA1</td>\n",
       "      <td>SA1</td>\n",
       "      <td>229.98000</td>\n",
       "      <td>2142.96</td>\n",
       "      <td>ACTUAL</td>\n",
       "      <td>340.14</td>\n",
       "      <td>1078.69055</td>\n",
       "      <td>1401.06945</td>\n",
       "      <td>0.0</td>\n",
       "    </tr>\n",
       "    <tr>\n",
       "      <th>2303</th>\n",
       "      <td>2024-07-17T17:25:00</td>\n",
       "      <td>TAS1</td>\n",
       "      <td>TAS1</td>\n",
       "      <td>270.22394</td>\n",
       "      <td>1507.24</td>\n",
       "      <td>ACTUAL</td>\n",
       "      <td>-320.40</td>\n",
       "      <td>1088.80001</td>\n",
       "      <td>98.03999</td>\n",
       "      <td>0.0</td>\n",
       "    </tr>\n",
       "    <tr>\n",
       "      <th>2879</th>\n",
       "      <td>2024-07-17T17:25:00</td>\n",
       "      <td>VIC1</td>\n",
       "      <td>VIC1</td>\n",
       "      <td>256.31000</td>\n",
       "      <td>7237.16</td>\n",
       "      <td>ACTUAL</td>\n",
       "      <td>725.84</td>\n",
       "      <td>6409.39820</td>\n",
       "      <td>1525.65180</td>\n",
       "      <td>0.0</td>\n",
       "    </tr>\n",
       "  </tbody>\n",
       "</table>\n",
       "</div>"
      ],
      "text/plain": [
       "           SETTLEMENTDATE REGIONID REGION        RRP  TOTALDEMAND PERIODTYPE  \\\n",
       "575   2024-07-17T17:25:00     NSW1   NSW1  288.55501     10749.29     ACTUAL   \n",
       "1151  2024-07-17T17:25:00     QLD1   QLD1  302.26313      8400.93     ACTUAL   \n",
       "1727  2024-07-17T17:25:00      SA1    SA1  229.98000      2142.96     ACTUAL   \n",
       "2303  2024-07-17T17:25:00     TAS1   TAS1  270.22394      1507.24     ACTUAL   \n",
       "2879  2024-07-17T17:25:00     VIC1   VIC1  256.31000      7237.16     ACTUAL   \n",
       "\n",
       "      NETINTERCHANGE  SCHEDULEDGENERATION  SEMISCHEDULEDGENERATION  APCFLAG  \n",
       "575          -901.28           9210.74240                620.52760      0.0  \n",
       "1151          198.84           8282.71913                321.95087      0.0  \n",
       "1727          340.14           1078.69055               1401.06945      0.0  \n",
       "2303         -320.40           1088.80001                 98.03999      0.0  \n",
       "2879          725.84           6409.39820               1525.65180      0.0  "
      ]
     },
     "execution_count": 5,
     "metadata": {},
     "output_type": "execute_result"
    }
   ],
   "source": [
    "eGen.groupby('REGION').tail(1)"
   ]
  }
 ],
 "metadata": {
  "kernelspec": {
   "display_name": "Python 3",
   "language": "python",
   "name": "python3"
  },
  "language_info": {
   "codemirror_mode": {
    "name": "ipython",
    "version": 3
   },
   "file_extension": ".py",
   "mimetype": "text/x-python",
   "name": "python",
   "nbconvert_exporter": "python",
   "pygments_lexer": "ipython3",
   "version": "3.10.11"
  }
 },
 "nbformat": 4,
 "nbformat_minor": 5
}
